{
 "cells": [
  {
   "cell_type": "code",
   "execution_count": 1,
   "id": "3a41441f-8b8b-4669-a5e4-c1d6226c6271",
   "metadata": {},
   "outputs": [],
   "source": [
    "from glob import glob\n",
    "import shutil\n",
    "import os\n",
    "from tqdm import tqdm"
   ]
  },
  {
   "cell_type": "code",
   "execution_count": 2,
   "id": "bde6fa19-3863-4ddf-bd2c-f84337febbe7",
   "metadata": {},
   "outputs": [],
   "source": [
    "from sklearn.model_selection import train_test_split"
   ]
  },
  {
   "cell_type": "code",
   "execution_count": 4,
   "id": "4b877426-b13f-488c-b8dc-fd1de94d1761",
   "metadata": {},
   "outputs": [
    {
     "data": {
      "text/plain": [
       "20580"
      ]
     },
     "execution_count": 4,
     "metadata": {},
     "output_type": "execute_result"
    }
   ],
   "source": [
    "files = glob('Images/*/*')\n",
    "len(files)"
   ]
  },
  {
   "cell_type": "code",
   "execution_count": 6,
   "id": "dadb7ac8-4f88-476a-802a-c2b7ef259e35",
   "metadata": {},
   "outputs": [],
   "source": [
    "train, test = train_test_split(files, test_size=0.2, shuffle=True, random_state=123)"
   ]
  },
  {
   "cell_type": "code",
   "execution_count": 13,
   "id": "5fccbbf4-5ef2-4e7a-9d4c-fd0733e27cad",
   "metadata": {},
   "outputs": [
    {
     "name": "stderr",
     "output_type": "stream",
     "text": [
      "100%|██████████████████████████████████████████████████████████████████| 16464/16464 [02:24<00:00, 113.85it/s]\n"
     ]
    }
   ],
   "source": [
    "for file in tqdm(train):\n",
    "    dest =  file.replace('Images', 'train')\n",
    "    folder = os.makedirs(os.path.dirname(dest), exist_ok=True)\n",
    "    shutil.copy(file,dest)"
   ]
  },
  {
   "cell_type": "code",
   "execution_count": 14,
   "id": "2b060360-2b83-40ad-b6a8-ed33e9e7d800",
   "metadata": {},
   "outputs": [
    {
     "name": "stderr",
     "output_type": "stream",
     "text": [
      "100%|████████████████████████████████████████████████████████████████████| 4116/4116 [00:35<00:00, 115.24it/s]\n"
     ]
    }
   ],
   "source": [
    "for file in tqdm(test):\n",
    "    dest =  file.replace('Images', 'test')\n",
    "    folder = os.makedirs(os.path.dirname(dest), exist_ok=True)\n",
    "    shutil.copy(file,dest)"
   ]
  },
  {
   "cell_type": "code",
   "execution_count": 15,
   "id": "aa251aa4-2f60-460d-a1f8-3cfbaef84fdd",
   "metadata": {},
   "outputs": [],
   "source": [
    "import pandas as pd"
   ]
  },
  {
   "cell_type": "code",
   "execution_count": 18,
   "id": "773d7a3b-e164-4f4c-b09c-fb9005dfd1f2",
   "metadata": {},
   "outputs": [
    {
     "data": {
      "text/plain": [
       "n02085936-Maltese_dog               252\n",
       "n02088094-Afghan_hound              239\n",
       "n02092002-Scottish_deerhound        232\n",
       "n02112018-Pomeranian                219\n",
       "n02111889-Samoyed                   218\n",
       "                                   ... \n",
       "n02106166-Border_collie             150\n",
       "n02107142-Doberman                  150\n",
       "n02102177-Welsh_springer_spaniel    150\n",
       "n02086079-Pekinese                  149\n",
       "n02090379-redbone                   148\n",
       "Length: 120, dtype: int64"
      ]
     },
     "execution_count": 18,
     "metadata": {},
     "output_type": "execute_result"
    }
   ],
   "source": [
    "pd.Series(files).str.split('/').str[1].value_counts()"
   ]
  },
  {
   "cell_type": "code",
   "execution_count": 20,
   "id": "d08292ac-2dbf-4526-8bfe-a1bfeb3d1f10",
   "metadata": {},
   "outputs": [],
   "source": [
    "from torchvision import datasets"
   ]
  },
  {
   "cell_type": "code",
   "execution_count": 21,
   "id": "fcadc048-51a2-468c-bf00-fdf11542d653",
   "metadata": {},
   "outputs": [],
   "source": [
    "train_set = datasets.ImageFolder(root='/WAVE/users/unix/selian/FER/dataset/train')"
   ]
  },
  {
   "cell_type": "code",
   "execution_count": 24,
   "id": "2090f410-5d81-42ff-b941-fca04a513eb7",
   "metadata": {},
   "outputs": [
    {
     "data": {
      "text/plain": [
       "(<PIL.Image.Image image mode=RGB size=800x600>, 0)"
      ]
     },
     "execution_count": 24,
     "metadata": {},
     "output_type": "execute_result"
    }
   ],
   "source": [
    "train_set[10]"
   ]
  },
  {
   "cell_type": "code",
   "execution_count": null,
   "id": "6e2ab516-7b0d-417c-a68c-4dc4421f9020",
   "metadata": {},
   "outputs": [],
   "source": []
  },
  {
   "cell_type": "code",
   "execution_count": 4,
   "id": "b5d2cbde-6723-429b-bc7b-4058897af506",
   "metadata": {},
   "outputs": [],
   "source": [
    "import os\n",
    "from torch.utils.data import DataLoader, Dataset\n",
    "from torchvision import datasets, transforms\n",
    "from PIL import Image\n",
    "\n",
    "class stanford_dataset(Dataset):\n",
    "    def __init__(self, root, transform):\n",
    "        self.image_loader =  datasets.ImageFolder(root=root,\n",
    "                                     transform=transform)\n",
    "\n",
    "    def __len__(self):\n",
    "        return len(self.image_loader)\n",
    "\n",
    "    def __getitem__(self, index):\n",
    "        image, target = self.image_loader[index]\n",
    "        return image, target, index"
   ]
  },
  {
   "cell_type": "code",
   "execution_count": 5,
   "id": "c20014d4-9a93-4a0b-b9db-49862db88bae",
   "metadata": {},
   "outputs": [],
   "source": [
    "train_transform = transforms.Compose([\n",
    "        transforms.Resize((32,32)),\n",
    "        transforms.RandomCrop(32, padding=4),\n",
    "        transforms.RandomHorizontalFlip(),\n",
    "        transforms.ToTensor(),\n",
    "        transforms.Normalize((0.5071, 0.4867, 0.4408), (0.2675, 0.2565, 0.2761)),\n",
    "    ])\n",
    "test_transform = transforms.Compose([\n",
    "    transforms.Resize((32,32)),\n",
    "    transforms.ToTensor(),\n",
    "    transforms.Normalize((0.5071, 0.4867, 0.4408), (0.2675, 0.2565, 0.2761)),\n",
    "])\n",
    "\n",
    "    \n",
    "\n",
    "train_set =stanford_dataset(root='/WAVE/users/unix/selian/FER/dataset/train',\n",
    "                                 transform=train_transform)"
   ]
  },
  {
   "cell_type": "code",
   "execution_count": 9,
   "id": "ba4739ce-eb1e-43c9-88f9-8c1574ec8c63",
   "metadata": {},
   "outputs": [
    {
     "data": {
      "text/plain": [
       "120"
      ]
     },
     "execution_count": 9,
     "metadata": {},
     "output_type": "execute_result"
    }
   ],
   "source": [
    "len(train_set.image_loader.classes)"
   ]
  },
  {
   "cell_type": "code",
   "execution_count": null,
   "id": "6bfae5fa-454d-4544-9c69-23db6f1e1499",
   "metadata": {},
   "outputs": [],
   "source": []
  }
 ],
 "metadata": {
  "kernelspec": {
   "display_name": "PyTorch Bundle",
   "language": "python",
   "name": "pytorch-cuda"
  },
  "language_info": {
   "codemirror_mode": {
    "name": "ipython",
    "version": 3
   },
   "file_extension": ".py",
   "mimetype": "text/x-python",
   "name": "python",
   "nbconvert_exporter": "python",
   "pygments_lexer": "ipython3",
   "version": "3.9.18"
  }
 },
 "nbformat": 4,
 "nbformat_minor": 5
}
